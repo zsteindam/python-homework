{
 "cells": [
  {
   "cell_type": "code",
   "execution_count": 369,
   "metadata": {},
   "outputs": [],
   "source": [
    "import csv\n",
    "from pathlib import Path"
   ]
  },
  {
   "cell_type": "code",
   "execution_count": 370,
   "metadata": {},
   "outputs": [],
   "source": [
    "csv_path = Path(\"Resources/budget_data.csv\")"
   ]
  },
  {
   "cell_type": "code",
   "execution_count": 371,
   "metadata": {},
   "outputs": [
    {
     "name": "stdout",
     "output_type": "stream",
     "text": [
      "['Date', 'Profit/Losses']\n",
      "['Jan-2010', '867884']\n",
      "['Feb-2010', '984655']\n",
      "['Mar-2010', '322013']\n",
      "['Apr-2010', '-69417']\n",
      "['May-2010', '310503']\n",
      "['Jun-2010', '522857']\n",
      "['Jul-2010', '1033096']\n",
      "['Aug-2010', '604885']\n",
      "['Sep-2010', '-216386']\n",
      "['Oct-2010', '477532']\n",
      "['Nov-2010', '893810']\n",
      "['Dec-2010', '-80353']\n",
      "['Jan-2011', '779806']\n",
      "['Feb-2011', '-335203']\n",
      "['Mar-2011', '697845']\n",
      "['Apr-2011', '793163']\n",
      "['May-2011', '485070']\n",
      "['Jun-2011', '584122']\n",
      "['Jul-2011', '62729']\n",
      "['Aug-2011', '668179']\n",
      "['Sep-2011', '899906']\n",
      "['Oct-2011', '834719']\n",
      "['Nov-2011', '132003']\n",
      "['Dec-2011', '309978']\n",
      "['Jan-2012', '-755566']\n",
      "['Feb-2012', '1170593']\n",
      "['Mar-2012', '252788']\n",
      "['Apr-2012', '1151518']\n",
      "['May-2012', '817256']\n",
      "['Jun-2012', '570757']\n",
      "['Jul-2012', '506702']\n",
      "['Aug-2012', '-1022534']\n",
      "['Sep-2012', '475062']\n",
      "['Oct-2012', '779976']\n",
      "['Nov-2012', '144175']\n",
      "['Dec-2012', '542494']\n",
      "['Jan-2013', '359333']\n",
      "['Feb-2013', '321469']\n",
      "['Mar-2013', '67780']\n",
      "['Apr-2013', '471435']\n",
      "['May-2013', '565603']\n",
      "['Jun-2013', '872480']\n",
      "['Jul-2013', '789480']\n",
      "['Aug-2013', '999942']\n",
      "['Sep-2013', '-1196225']\n",
      "['Oct-2013', '268997']\n",
      "['Nov-2013', '-687986']\n",
      "['Dec-2013', '1150461']\n",
      "['Jan-2014', '682458']\n",
      "['Feb-2014', '617856']\n",
      "['Mar-2014', '824098']\n",
      "['Apr-2014', '581943']\n",
      "['May-2014', '132864']\n",
      "['Jun-2014', '448062']\n",
      "['Jul-2014', '689161']\n",
      "['Aug-2014', '800701']\n",
      "['Sep-2014', '1166643']\n",
      "['Oct-2014', '947333']\n",
      "['Nov-2014', '578668']\n",
      "['Dec-2014', '988505']\n",
      "['Jan-2015', '1139715']\n",
      "['Feb-2015', '1029471']\n",
      "['Mar-2015', '687533']\n",
      "['Apr-2015', '-524626']\n",
      "['May-2015', '158620']\n",
      "['Jun-2015', '87795']\n",
      "['Jul-2015', '423389']\n",
      "['Aug-2015', '840723']\n",
      "['Sep-2015', '568529']\n",
      "['Oct-2015', '332067']\n",
      "['Nov-2015', '989499']\n",
      "['Dec-2015', '778237']\n",
      "['Jan-2016', '650000']\n",
      "['Feb-2016', '-1100387']\n",
      "['Mar-2016', '-174946']\n",
      "['Apr-2016', '757143']\n",
      "['May-2016', '445709']\n",
      "['Jun-2016', '712961']\n",
      "['Jul-2016', '-1163797']\n",
      "['Aug-2016', '569899']\n",
      "['Sep-2016', '768450']\n",
      "['Oct-2016', '102685']\n",
      "['Nov-2016', '795914']\n",
      "['Dec-2016', '60988']\n",
      "['Jan-2017', '138230']\n",
      "['Feb-2017', '671099']\n"
     ]
    }
   ],
   "source": [
    "line_num = 0\n",
    "total_pnl = []\n",
    "dict_pnl = {}\n",
    "with open(csv_path, \"r\") as csvfile:\n",
    "    csvreader = csv.reader(csvfile, delimiter=\",\")\n",
    "    csv_header = next(csvreader)\n",
    "    line_num += 1\n",
    "    print(f\"{csv_header}\")\n",
    "    for row in csvreader:\n",
    "        print(row)\n",
    "        date = str(row[0])\n",
    "        pnl = int(row[1])\n",
    "        total_pnl.append(pnl)\n",
    "    \n",
    "        \n",
    "        "
   ]
  },
  {
   "cell_type": "code",
   "execution_count": 372,
   "metadata": {},
   "outputs": [],
   "source": [
    "with open(csv_path, \"r\") as csvfile:\n",
    "    csvreader = csv.reader(csvfile, delimiter=\",\")\n",
    "    csv_header = next(csvreader)\n",
    "    for row in csvreader:\n",
    "        dict_pnl = {row[1]:row[0] for row in csvreader}"
   ]
  },
  {
   "cell_type": "code",
   "execution_count": 373,
   "metadata": {},
   "outputs": [],
   "source": [
    "sum_pnl = sum(total_pnl)"
   ]
  },
  {
   "cell_type": "code",
   "execution_count": 374,
   "metadata": {},
   "outputs": [
    {
     "name": "stdout",
     "output_type": "stream",
     "text": [
      "38382578\n"
     ]
    }
   ],
   "source": [
    "print(sum_pnl)"
   ]
  },
  {
   "cell_type": "code",
   "execution_count": 375,
   "metadata": {},
   "outputs": [],
   "source": [
    "max_pnl = 0\n",
    "min_pnl = 0\n",
    "avg_pnl = 0\n",
    "count_pnl = 0\n"
   ]
  },
  {
   "cell_type": "code",
   "execution_count": 376,
   "metadata": {},
   "outputs": [],
   "source": [
    "changes_pnl = [total_pnl[i+1]-total_pnl[i] for i in range(len(total_pnl)-1)]"
   ]
  },
  {
   "cell_type": "code",
   "execution_count": 377,
   "metadata": {},
   "outputs": [],
   "source": [
    "for pnl in total_pnl:\n",
    "    count_pnl += 1\n",
    "    if min_pnl == 0:\n",
    "        min_pnl = pnl\n",
    "    elif pnl > max_pnl:\n",
    "        max_pnl = pnl\n",
    "    elif pnl < min_pnl:\n",
    "        min_pnl = pnl\n",
    "\n",
    "    "
   ]
  },
  {
   "cell_type": "code",
   "execution_count": 378,
   "metadata": {},
   "outputs": [],
   "source": [
    "avg_pnl = round(sum_pnl / count_pnl, 2)"
   ]
  },
  {
   "cell_type": "code",
   "execution_count": 379,
   "metadata": {},
   "outputs": [
    {
     "name": "stdout",
     "output_type": "stream",
     "text": [
      "1170593 -1196225 446309.05 86\n"
     ]
    }
   ],
   "source": [
    "print(max_pnl, min_pnl, avg_pnl, count_pnl)"
   ]
  },
  {
   "cell_type": "code",
   "execution_count": 380,
   "metadata": {},
   "outputs": [
    {
     "data": {
      "text/plain": [
       "38382578"
      ]
     },
     "execution_count": 380,
     "metadata": {},
     "output_type": "execute_result"
    }
   ],
   "source": [
    "sum_pnl"
   ]
  },
  {
   "cell_type": "code",
   "execution_count": 381,
   "metadata": {},
   "outputs": [
    {
     "name": "stdout",
     "output_type": "stream",
     "text": [
      "[867884, 984655, 322013, -69417, 310503, 522857, 1033096, 604885, -216386, 477532, 893810, -80353, 779806, -335203, 697845, 793163, 485070, 584122, 62729, 668179, 899906, 834719, 132003, 309978, -755566, 1170593, 252788, 1151518, 817256, 570757, 506702, -1022534, 475062, 779976, 144175, 542494, 359333, 321469, 67780, 471435, 565603, 872480, 789480, 999942, -1196225, 268997, -687986, 1150461, 682458, 617856, 824098, 581943, 132864, 448062, 689161, 800701, 1166643, 947333, 578668, 988505, 1139715, 1029471, 687533, -524626, 158620, 87795, 423389, 840723, 568529, 332067, 989499, 778237, 650000, -1100387, -174946, 757143, 445709, 712961, -1163797, 569899, 768450, 102685, 795914, 60988, 138230, 671099]\n"
     ]
    }
   ],
   "source": [
    "print(total_pnl)\n",
    "\n"
   ]
  },
  {
   "cell_type": "code",
   "execution_count": null,
   "metadata": {},
   "outputs": [],
   "source": []
  },
  {
   "cell_type": "code",
   "execution_count": 382,
   "metadata": {},
   "outputs": [
    {
     "data": {
      "text/plain": [
       "[116771,\n",
       " -662642,\n",
       " -391430,\n",
       " 379920,\n",
       " 212354,\n",
       " 510239,\n",
       " -428211,\n",
       " -821271,\n",
       " 693918,\n",
       " 416278,\n",
       " -974163,\n",
       " 860159,\n",
       " -1115009,\n",
       " 1033048,\n",
       " 95318,\n",
       " -308093,\n",
       " 99052,\n",
       " -521393,\n",
       " 605450,\n",
       " 231727,\n",
       " -65187,\n",
       " -702716,\n",
       " 177975,\n",
       " -1065544,\n",
       " 1926159,\n",
       " -917805,\n",
       " 898730,\n",
       " -334262,\n",
       " -246499,\n",
       " -64055,\n",
       " -1529236,\n",
       " 1497596,\n",
       " 304914,\n",
       " -635801,\n",
       " 398319,\n",
       " -183161,\n",
       " -37864,\n",
       " -253689,\n",
       " 403655,\n",
       " 94168,\n",
       " 306877,\n",
       " -83000,\n",
       " 210462,\n",
       " -2196167,\n",
       " 1465222,\n",
       " -956983,\n",
       " 1838447,\n",
       " -468003,\n",
       " -64602,\n",
       " 206242,\n",
       " -242155,\n",
       " -449079,\n",
       " 315198,\n",
       " 241099,\n",
       " 111540,\n",
       " 365942,\n",
       " -219310,\n",
       " -368665,\n",
       " 409837,\n",
       " 151210,\n",
       " -110244,\n",
       " -341938,\n",
       " -1212159,\n",
       " 683246,\n",
       " -70825,\n",
       " 335594,\n",
       " 417334,\n",
       " -272194,\n",
       " -236462,\n",
       " 657432,\n",
       " -211262,\n",
       " -128237,\n",
       " -1750387,\n",
       " 925441,\n",
       " 932089,\n",
       " -311434,\n",
       " 267252,\n",
       " -1876758,\n",
       " 1733696,\n",
       " 198551,\n",
       " -665765,\n",
       " 693229,\n",
       " -734926,\n",
       " 77242,\n",
       " 532869]"
      ]
     },
     "execution_count": 382,
     "metadata": {},
     "output_type": "execute_result"
    }
   ],
   "source": [
    "changes_pnl"
   ]
  },
  {
   "cell_type": "code",
   "execution_count": 383,
   "metadata": {},
   "outputs": [],
   "source": [
    "max_change = 0\n",
    "min_change = 0\n",
    "avg_change = 0\n",
    "count_change = 1"
   ]
  },
  {
   "cell_type": "code",
   "execution_count": 384,
   "metadata": {},
   "outputs": [],
   "source": [
    "\n",
    "\n",
    "for changes in changes_pnl:\n",
    "    count_change += 1\n",
    "    if min_change == 0:\n",
    "        min_change = changes\n",
    "    elif changes > max_change:\n",
    "        max_change = changes\n",
    "    elif changes < min_change:\n",
    "        min_change = changes"
   ]
  },
  {
   "cell_type": "code",
   "execution_count": 386,
   "metadata": {},
   "outputs": [],
   "source": [
    "total_changes = sum(changes_pnl)"
   ]
  },
  {
   "cell_type": "code",
   "execution_count": null,
   "metadata": {},
   "outputs": [],
   "source": []
  },
  {
   "cell_type": "code",
   "execution_count": 387,
   "metadata": {},
   "outputs": [
    {
     "data": {
      "text/plain": [
       "-196785"
      ]
     },
     "execution_count": 387,
     "metadata": {},
     "output_type": "execute_result"
    }
   ],
   "source": [
    "total_changes"
   ]
  },
  {
   "cell_type": "code",
   "execution_count": 388,
   "metadata": {},
   "outputs": [],
   "source": [
    "avg_change = round(total_changes / (count_change -1), 2)"
   ]
  },
  {
   "cell_type": "code",
   "execution_count": 389,
   "metadata": {},
   "outputs": [
    {
     "data": {
      "text/plain": [
       "-2315.12"
      ]
     },
     "execution_count": 389,
     "metadata": {},
     "output_type": "execute_result"
    }
   ],
   "source": [
    "avg_change"
   ]
  },
  {
   "cell_type": "code",
   "execution_count": null,
   "metadata": {},
   "outputs": [],
   "source": []
  },
  {
   "cell_type": "code",
   "execution_count": null,
   "metadata": {},
   "outputs": [],
   "source": []
  },
  {
   "cell_type": "code",
   "execution_count": 390,
   "metadata": {},
   "outputs": [
    {
     "name": "stdout",
     "output_type": "stream",
     "text": [
      "1926159 -2196167 -2315.12 86\n"
     ]
    }
   ],
   "source": [
    "print(max_change, min_change, avg_change, count_change)"
   ]
  },
  {
   "cell_type": "code",
   "execution_count": null,
   "metadata": {},
   "outputs": [],
   "source": []
  },
  {
   "cell_type": "code",
   "execution_count": 391,
   "metadata": {},
   "outputs": [],
   "source": [
    "output_path = Path('output.txt')"
   ]
  },
  {
   "cell_type": "code",
   "execution_count": null,
   "metadata": {},
   "outputs": [],
   "source": [
    "\n"
   ]
  },
  {
   "cell_type": "code",
   "execution_count": 392,
   "metadata": {},
   "outputs": [
    {
     "data": {
      "text/plain": [
       "{'984655': 'Feb-2010',\n",
       " '322013': 'Mar-2010',\n",
       " '-69417': 'Apr-2010',\n",
       " '310503': 'May-2010',\n",
       " '522857': 'Jun-2010',\n",
       " '1033096': 'Jul-2010',\n",
       " '604885': 'Aug-2010',\n",
       " '-216386': 'Sep-2010',\n",
       " '477532': 'Oct-2010',\n",
       " '893810': 'Nov-2010',\n",
       " '-80353': 'Dec-2010',\n",
       " '779806': 'Jan-2011',\n",
       " '-335203': 'Feb-2011',\n",
       " '697845': 'Mar-2011',\n",
       " '793163': 'Apr-2011',\n",
       " '485070': 'May-2011',\n",
       " '584122': 'Jun-2011',\n",
       " '62729': 'Jul-2011',\n",
       " '668179': 'Aug-2011',\n",
       " '899906': 'Sep-2011',\n",
       " '834719': 'Oct-2011',\n",
       " '132003': 'Nov-2011',\n",
       " '309978': 'Dec-2011',\n",
       " '-755566': 'Jan-2012',\n",
       " '1170593': 'Feb-2012',\n",
       " '252788': 'Mar-2012',\n",
       " '1151518': 'Apr-2012',\n",
       " '817256': 'May-2012',\n",
       " '570757': 'Jun-2012',\n",
       " '506702': 'Jul-2012',\n",
       " '-1022534': 'Aug-2012',\n",
       " '475062': 'Sep-2012',\n",
       " '779976': 'Oct-2012',\n",
       " '144175': 'Nov-2012',\n",
       " '542494': 'Dec-2012',\n",
       " '359333': 'Jan-2013',\n",
       " '321469': 'Feb-2013',\n",
       " '67780': 'Mar-2013',\n",
       " '471435': 'Apr-2013',\n",
       " '565603': 'May-2013',\n",
       " '872480': 'Jun-2013',\n",
       " '789480': 'Jul-2013',\n",
       " '999942': 'Aug-2013',\n",
       " '-1196225': 'Sep-2013',\n",
       " '268997': 'Oct-2013',\n",
       " '-687986': 'Nov-2013',\n",
       " '1150461': 'Dec-2013',\n",
       " '682458': 'Jan-2014',\n",
       " '617856': 'Feb-2014',\n",
       " '824098': 'Mar-2014',\n",
       " '581943': 'Apr-2014',\n",
       " '132864': 'May-2014',\n",
       " '448062': 'Jun-2014',\n",
       " '689161': 'Jul-2014',\n",
       " '800701': 'Aug-2014',\n",
       " '1166643': 'Sep-2014',\n",
       " '947333': 'Oct-2014',\n",
       " '578668': 'Nov-2014',\n",
       " '988505': 'Dec-2014',\n",
       " '1139715': 'Jan-2015',\n",
       " '1029471': 'Feb-2015',\n",
       " '687533': 'Mar-2015',\n",
       " '-524626': 'Apr-2015',\n",
       " '158620': 'May-2015',\n",
       " '87795': 'Jun-2015',\n",
       " '423389': 'Jul-2015',\n",
       " '840723': 'Aug-2015',\n",
       " '568529': 'Sep-2015',\n",
       " '332067': 'Oct-2015',\n",
       " '989499': 'Nov-2015',\n",
       " '778237': 'Dec-2015',\n",
       " '650000': 'Jan-2016',\n",
       " '-1100387': 'Feb-2016',\n",
       " '-174946': 'Mar-2016',\n",
       " '757143': 'Apr-2016',\n",
       " '445709': 'May-2016',\n",
       " '712961': 'Jun-2016',\n",
       " '-1163797': 'Jul-2016',\n",
       " '569899': 'Aug-2016',\n",
       " '768450': 'Sep-2016',\n",
       " '102685': 'Oct-2016',\n",
       " '795914': 'Nov-2016',\n",
       " '60988': 'Dec-2016',\n",
       " '138230': 'Jan-2017',\n",
       " '671099': 'Feb-2017'}"
      ]
     },
     "execution_count": 392,
     "metadata": {},
     "output_type": "execute_result"
    }
   ],
   "source": [
    "dict_pnl"
   ]
  },
  {
   "cell_type": "code",
   "execution_count": null,
   "metadata": {},
   "outputs": [],
   "source": []
  },
  {
   "cell_type": "code",
   "execution_count": 393,
   "metadata": {},
   "outputs": [
    {
     "data": {
      "text/plain": [
       "1170593"
      ]
     },
     "execution_count": 393,
     "metadata": {},
     "output_type": "execute_result"
    }
   ],
   "source": [
    "max_pnl"
   ]
  },
  {
   "cell_type": "code",
   "execution_count": null,
   "metadata": {},
   "outputs": [],
   "source": []
  },
  {
   "cell_type": "code",
   "execution_count": 394,
   "metadata": {},
   "outputs": [
    {
     "name": "stdout",
     "output_type": "stream",
     "text": [
      "Feb-2012\n"
     ]
    }
   ],
   "source": [
    "max_date = \"\"\n",
    "for profit, date1 in dict_pnl.items():\n",
    "    if profit == str(max_pnl):\n",
    "        print(date1)\n",
    "        max_date = date1"
   ]
  },
  {
   "cell_type": "code",
   "execution_count": 395,
   "metadata": {},
   "outputs": [
    {
     "data": {
      "text/plain": [
       "'Feb-2012'"
      ]
     },
     "execution_count": 395,
     "metadata": {},
     "output_type": "execute_result"
    }
   ],
   "source": [
    "max_date"
   ]
  },
  {
   "cell_type": "code",
   "execution_count": 396,
   "metadata": {},
   "outputs": [
    {
     "name": "stdout",
     "output_type": "stream",
     "text": [
      "Sep-2013\n"
     ]
    }
   ],
   "source": [
    "min_date = \"\"\n",
    "for profit, date2 in dict_pnl.items():\n",
    "    if profit == str(min_pnl):\n",
    "        print(date2)\n",
    "        min_date = date2"
   ]
  },
  {
   "cell_type": "code",
   "execution_count": 397,
   "metadata": {},
   "outputs": [
    {
     "name": "stdout",
     "output_type": "stream",
     "text": [
      "Sep-2013\n"
     ]
    }
   ],
   "source": [
    "print(min_date)"
   ]
  },
  {
   "cell_type": "code",
   "execution_count": 398,
   "metadata": {},
   "outputs": [
    {
     "name": "stdout",
     "output_type": "stream",
     "text": [
      "Feb-2012\n"
     ]
    }
   ],
   "source": [
    "print(max_date)"
   ]
  },
  {
   "cell_type": "code",
   "execution_count": 399,
   "metadata": {},
   "outputs": [],
   "source": [
    "with open(output_path, 'w') as file:\n",
    "    file.write(\"Financial Analysis \\n\")\n",
    "    file.write(\"---------------------------- \\n\")\n",
    "    file.write(f\"Total Months: {count_pnl} \\n\")\n",
    "    file.write(f\"Total: {sum_pnl} \\n\")\n",
    "    file.write(f\"Average Change: {avg_change} \\n\")\n",
    "    file.write(f\"Greatest Increase in Profits: {max_date} {max_change} \\n\")\n",
    "    file.write(f\"Greatest Decrease in Profits: {min_date} {min_change} \\n\")"
   ]
  },
  {
   "cell_type": "code",
   "execution_count": null,
   "metadata": {},
   "outputs": [],
   "source": []
  },
  {
   "cell_type": "code",
   "execution_count": null,
   "metadata": {},
   "outputs": [],
   "source": []
  }
 ],
 "metadata": {
  "kernelspec": {
   "display_name": "Python 3",
   "language": "python",
   "name": "python3"
  },
  "language_info": {
   "codemirror_mode": {
    "name": "ipython",
    "version": 3
   },
   "file_extension": ".py",
   "mimetype": "text/x-python",
   "name": "python",
   "nbconvert_exporter": "python",
   "pygments_lexer": "ipython3",
   "version": "3.7.3"
  }
 },
 "nbformat": 4,
 "nbformat_minor": 4
}
